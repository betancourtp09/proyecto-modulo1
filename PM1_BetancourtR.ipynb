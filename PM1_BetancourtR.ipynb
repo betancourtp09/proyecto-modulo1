{
 "cells": [
  {
   "cell_type": "markdown",
   "metadata": {},
   "source": [
    "\n",
    "# Deteccion de arbitraje utilizando programacion lineal."
   ]
  },
  {
   "attachments": {},
   "cell_type": "markdown",
   "metadata": {},
   "source": [
    " Objetivos.\n",
    "\n",
    "> ####  Objetivo general.\n",
    ">  - El propósito de este proyecto es detectar si existen oportunidades de arbitraje considerando el mercado de divisas global y, en caso de que existieran identificar cual es la mejor opción. Las siguientes son las transacciones hechas el 14 de febrero de 2002.\n",
    "\n",
    "> ####  Objetivos específicos\n",
    ">  - un objetivo es maximizar la funcion .\n",
    ">  - optimizar el problema de arbitraje de tal manera que nos demos cuenta como podemos hacer arbitraje y conseguir 1dll."
   ]
  },
  {
   "cell_type": "markdown",
   "metadata": {},
   "source": [
    "referencia: http://mattmcd.github.io/2013/03/30/FX-Arbitrage-CLP.html"
   ]
  },
  {
   "cell_type": "markdown",
   "metadata": {},
   "source": [
    "El problema a optimizar y las restricciones estan dadas por los precios equivalentes dados en el problema.\n",
    "\n"
   ]
  },
  {
   "cell_type": "code",
   "execution_count": 18,
   "metadata": {},
   "outputs": [
    {
     "data": {
      "text/html": [
       "<div>\n",
       "<style scoped>\n",
       "    .dataframe tbody tr th:only-of-type {\n",
       "        vertical-align: middle;\n",
       "    }\n",
       "\n",
       "    .dataframe tbody tr th {\n",
       "        vertical-align: top;\n",
       "    }\n",
       "\n",
       "    .dataframe thead th {\n",
       "        text-align: right;\n",
       "    }\n",
       "</style>\n",
       "<table border=\"1\" class=\"dataframe\">\n",
       "  <thead>\n",
       "    <tr style=\"text-align: right;\">\n",
       "      <th></th>\n",
       "      <th>USD</th>\n",
       "      <th>EUR</th>\n",
       "      <th>GBP</th>\n",
       "      <th>JPY</th>\n",
       "    </tr>\n",
       "  </thead>\n",
       "  <tbody>\n",
       "    <tr>\n",
       "      <th>USD</th>\n",
       "      <td>0</td>\n",
       "      <td>0.8706</td>\n",
       "      <td>1.4279</td>\n",
       "      <td>0.0075</td>\n",
       "    </tr>\n",
       "    <tr>\n",
       "      <th>EUR</th>\n",
       "      <td>1.1489</td>\n",
       "      <td>0</td>\n",
       "      <td>1.6401</td>\n",
       "      <td>0.00861</td>\n",
       "    </tr>\n",
       "    <tr>\n",
       "      <th>GBP</th>\n",
       "      <td>0.7003</td>\n",
       "      <td>0.6097</td>\n",
       "      <td>0</td>\n",
       "      <td>0.00525</td>\n",
       "    </tr>\n",
       "    <tr>\n",
       "      <th>JPY</th>\n",
       "      <td>133.38</td>\n",
       "      <td>116.12</td>\n",
       "      <td>190.45</td>\n",
       "      <td>0</td>\n",
       "    </tr>\n",
       "  </tbody>\n",
       "</table>\n",
       "</div>"
      ],
      "text/plain": [
       "        USD     EUR     GBP      JPY\n",
       "USD       0  0.8706  1.4279   0.0075\n",
       "EUR  1.1489       0  1.6401  0.00861\n",
       "GBP  0.7003  0.6097       0  0.00525\n",
       "JPY  133.38  116.12  190.45        0"
      ]
     },
     "execution_count": 18,
     "metadata": {},
     "output_type": "execute_result"
    }
   ],
   "source": [
    "divisas = pd.DataFrame(columns=['USD', 'EUR', 'GBP', 'JPY'], index=['USD', 'EUR', 'GBP','JPY'])\n",
    "divisas.loc['USD'] = np.array([0, 0.8706, 1.4279, 0.00750,])\n",
    "divisas.loc['EUR'] = np.array([1.1489, 0, 1.6401, 0.00861,])\n",
    "divisas.loc['GBP'] = np.array([0.7003, 0.6097, 0, 0.00525,])\n",
    "divisas.loc['JPY'] = np.array([133.38, 116.12, 190.45, 0, ])\n",
    "\n",
    "divisas.round(4)"
   ]
  },
  {
   "attachments": {},
   "cell_type": "markdown",
   "metadata": {},
   "source": [
    "A continuación empezaremos por resolver el proyecto estableciendo las 12 variables dentro del problema. Cada una indica el tipo de divisa que se tiene (siendo el primer número del subíndice), y el tipo de divisa al cual se cambiará (siendo el segundo número del subíndice).\n",
    "El número 1 corresponde a USD. \n",
    "EL número 2 corresponde a EUR. \n",
    "EL número 3 corresponde a GBP. \n",
    "EL número 4 corresponde a JPY. \n",
    "Por ejemplo, la variable x12x12 indica la cantidad de USD convertidos a EUR, la variable x43x43 indica la cantidad de JPY convertidos a GBP.\n"
   ]
  },
  {
   "cell_type": "code",
   "execution_count": 10,
   "metadata": {},
   "outputs": [],
   "source": [
    "import numpy as np\n",
    "import scipy.optimize as opt "
   ]
  },
  {
   "cell_type": "code",
   "execution_count": 11,
   "metadata": {},
   "outputs": [],
   "source": [
    "#      X= [ x12, x13,  x14,  x21,  x23,  x24,  x31,  x32,  x34,  x41,  x42,  x43]\n",
    "f1 =np.array([-1, -1,  -1,  0.8706, 0,    0, 1.4279,  0,  0,  0.00750, 0,   0  ])\n",
    "f2= np.array([1.1486,0, 0, -1, -1, -1, 0, 1.6401, 0, 0, 0.00861, 0 ])\n",
    "f3= np.array([0, 0.7003, 0, 0, 0.6097, 0, -1, -1, -1, 0, 0, 0.00525]) \n",
    "f4= np.array([0, 0, 133.38, 0, 0, 116.12, 0, 0, 190.45, -1, -1, -1  ])                   "
   ]
  },
  {
   "cell_type": "code",
   "execution_count": 12,
   "metadata": {},
   "outputs": [
    {
     "data": {
      "text/plain": [
       "array([ 1.    ,  1.    ,  1.    , -0.8706, -0.    , -0.    , -1.4279,\n",
       "       -0.    , -0.    , -0.0075, -0.    , -0.    ])"
      ]
     },
     "execution_count": 12,
     "metadata": {},
     "output_type": "execute_result"
    }
   ],
   "source": [
    "c = -f1\n",
    "c"
   ]
  },
  {
   "cell_type": "code",
   "execution_count": 16,
   "metadata": {},
   "outputs": [],
   "source": [
    "A = np.array([-f1, -f2, -f3, -f4, f1])\n",
    "b = np.array([0, 0, 0, 0, 1])"
   ]
  },
  {
   "cell_type": "code",
   "execution_count": 17,
   "metadata": {},
   "outputs": [
    {
     "data": {
      "text/plain": [
       "     con: array([], dtype=float64)\n",
       "     fun: -1.0000000000004547\n",
       " message: 'Optimization terminated successfully.'\n",
       "     nit: 7\n",
       "   slack: array([ 1.00000000e+00,  0.00000000e+00,  0.00000000e+00,  0.00000000e+00,\n",
       "       -4.54747351e-13])\n",
       "  status: 0\n",
       " success: True\n",
       "       x: array([     0.        ,      0.        ,   2857.14285714,      0.        ,\n",
       "            0.        ,      0.        ,      0.        ,      0.        ,\n",
       "            0.        , 381085.71428588,      0.        ,      0.        ])"
      ]
     },
     "execution_count": 17,
     "metadata": {},
     "output_type": "execute_result"
    }
   ],
   "source": [
    "arbitraje = opt.linprog(c, A, b)\n",
    "arbitraje"
   ]
  },
  {
   "attachments": {},
   "cell_type": "markdown",
   "metadata": {},
   "source": [
    "### 1.6 Conclusiones.\n",
    "> Observando los resultados, sí existe una oportunidad de arbitraje para conseguir un dólar de ganancia al invertir 2,857.1428 USD a JPY y después invertir 381,085.7142 JPY a USD. De esta manera nuestra ganancia será de 1.00 USD.\n",
    "\n"
   ]
  }
 ],
 "metadata": {
  "kernelspec": {
   "display_name": "Python 3",
   "language": "python",
   "name": "python3"
  },
  "language_info": {
   "codemirror_mode": {
    "name": "ipython",
    "version": 3
   },
   "file_extension": ".py",
   "mimetype": "text/x-python",
   "name": "python",
   "nbconvert_exporter": "python",
   "pygments_lexer": "ipython3",
   "version": "3.7.3"
  }
 },
 "nbformat": 4,
 "nbformat_minor": 2
}
